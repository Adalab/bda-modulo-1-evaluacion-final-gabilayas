{
 "cells": [
  {
   "cell_type": "markdown",
   "id": "498a864c",
   "metadata": {},
   "source": [
    "# Primera Evaluacion Mod 1 "
   ]
  },
  {
   "cell_type": "markdown",
   "id": "afe7bc34",
   "metadata": {},
   "source": [
    "A lo largo de esta evaluación tendrás que crear una clase llamada TiendaOnline que cumpla los\n",
    "siguientes requisitos:\n",
    "La clase TiendaOnline debe tener los siguientes atributos:\n",
    ". inventario (lista de diccionarios): Un atributo para almacenar los productos en el inventario.\n",
    "Cada producto debe ser representado como un diccionario con las siguientes claves:\n",
    "'nombre', 'precio', y 'cantidad'. Al principio deberá ser una lista vacía. Ejemplo de\n",
    "como debería ser:\n",
    "    [{'nombre': 'Camisa', 'precio': 20, 'cantidad': 40}, \n",
    "    {'nombre': 'Pantalón', 'precio': 30, 'cantidad': 30}] \n",
    ". ventas_totales (float): Un atributo para llevar un registro de las ventas totales de la tienda.\n",
    "Inicializado con valor 0.\n",
    "La clase TiendaOnline debe tener los siguientes métodos:\n",
    ". agregar_producto(self, nombre, precio, cantidad): Este método agrega un producto al\n",
    "inventario o actualiza su cantidad si ya existe. Debe recibir el nombre, precio y cantidad del producto\n",
    "como parámetros.\n",
    "Itera a través del inventario y compara los nombres de los productos con el nombre\n",
    "proporcionado.\n",
    "Si el producto ya existe, actualiza la cantidad.\n",
    "Si no existe, agrega un nuevo producto al inventario.\n",
    ". ver_inventario(self): Muestra el inventario de productos con sus detalles.\n",
    "Utiliza un bucle for para recorrer el inventario.\n",
    "evaluacion-finalv_2.md 2024-12-16\n",
    "2 / 5\n",
    "Imprime los detalles (nombre, precio, cantidad) de cada producto.\n",
    "Debería verse:\n",
    "    Nombre: Camisa, Precio: $20, Cantidad: 50 \n",
    "    Nombre: Pantalón, Precio: $30, Cantidad: 30 \n",
    "    Nombre: Zapatos, Precio: $50, Cantidad: 40 \n",
    "    Nombre: Camisa, Precio: $20, Cantidad: 50\n",
    ". buscar_producto(self, nombre): Busca un producto en el inventario por nombre y muestra sus\n",
    "detalles si se encuentra. Debe recibir el nombre del producto como parámetro.\n",
    "Utiliza un bucle for para recorrer el inventario.\n",
    "Compara los nombres de los productos con el nombre proporcionado.\n",
    "Si se encuentra el producto, imprime sus detalles.\n",
    "Debe mostrar:\n",
    "Nombre: Camisa, Precio: $20, Cantidad: 40\n",
    ". actualizar_stock(self, nombre, cantidad): Actualiza el stock de un producto en el\n",
    "inventario. Debe recibir el nombre del producto y la cantidad a agregar o quitar como parámetros.\n",
    "Utiliza un bucle for para recorrer el inventario.\n",
    "Busca el producto por nombre.\n",
    "Actualiza la cantidad según la entrada del usuario.\n",
    "Si el producto no esta en el inventario muestra un mensaje indicándolo.\n",
    ". eliminar_producto(self, nombre): Elimina un producto del inventario por nombre. Debe\n",
    "recibir el nombre del producto como parámetro.\n",
    "Utiliza un bucle for para recorrer el inventario.\n",
    "Busca el producto por nombre.\n",
    "Elimina el producto del inventario si existe.\n",
    "Si el producto no esta en el inventario muestra un mensaje indicándolo.\n",
    ". calcular_valor_inventario(self): Calcula y muestra el valor total del inventario.\n",
    "Utiliza un bucle for para calcular el valor total del inventario.\n",
    "Itera a través del inventario y suma el valor de cada producto (precio x cantidad). Es decir,\n",
    "calcula el valor total del inventario. Ejemplo:\n",
    "# si tenemos 5 camisas que valen 5 euros \n",
    "# y 10 calcetines que valen 1 euro\n",
    "# este método te tiene que devolver: 35 euros \n",
    " \n",
    "evaluacion-finalv_2.md 2024-12-16\n",
    "3 / 5\n",
    "valor_camisas = 5 * 5 \n",
    "valor_calcetines = 10 * 1 \n",
    " \n",
    "valor_camisas + valor_calcetines = 35\n",
    "Instrucciones Adicionales:\n",
    "Debes crear instancias de la clase TiendaOnline y probar cada uno de los métodos para demostrar\n",
    "que funcionan correctamente.\n",
    "Para las entrevistas técnicas, asegúrate de tener preparado un código que permita añadir una\n",
    "cantidad significativa de productos al inventario. Esto facilitará comprobar si los métodos para\n",
    "visualizar el inventario, buscar productos, y otras funcionalidades están funcionando correctamente.\""
   ]
  },
  {
   "cell_type": "code",
   "execution_count": 41,
   "id": "9d598d02",
   "metadata": {},
   "outputs": [],
   "source": [
    "class TiendaOnline: \n",
    "    def __init__ (self, nombre):\n",
    "        self.nombre = nombre \n",
    "        self.inventario= []\n",
    "        self.ventas_totales= 0,0\n",
    "        \n",
    "    def agregar_producto(self):\n",
    "        # Primero miro si le producto existe \n",
    "        for producto in self.inventario:\n",
    "            if producto['nombre'] == nombre:\n",
    "                producto['cantidad'] += cantidad  # Actualizo la cantidad\n",
    "                print(f\"Cantidad actualizada para {nombre}. Nueva cantidad: {producto['cantidad']}\")\n",
    "                return\n",
    "\n",
    "        # Si no existe, lo agrego\n",
    "        nuevo_producto = {'nombre': nombre,'precio': precio,'cantidad': cantidad}\n",
    "        self.inventario.append(nuevo_producto)\n",
    "        print(f\"Producto {nombre} ha sido agregado al inventario.\")\n",
    "\n",
    "    def ver_inventario(self, nombre, precio, cantidad):\n",
    "        if not self.inventario:\n",
    "            print(\"El inventario está vacío.\")\n",
    "        else:\n",
    "            for producto in self.inventario:\n",
    "                print(f\"Nombre: {producto['nombre']}, Precio: ${producto['precio']}, Cantidad: {producto['cantidad']}\")\n",
    "\n",
    "    def buscar_producto(self, nombre):\n",
    "        for producto in self.inventario:\n",
    "            if producto['nombre']== nombre:\n",
    "                print(f\"Nombre: {producto['nombre']}, Precio: ${producto['precio']}, Cantidad: {producto['cantidad']}\")\n",
    "                return\n",
    "            else: \n",
    "                print(\"Producto no encontrado.\")\n"
   ]
  },
  {
   "cell_type": "code",
   "execution_count": 42,
   "id": "b15ec4bd",
   "metadata": {},
   "outputs": [
    {
     "name": "stdout",
     "output_type": "stream",
     "text": [
      "-------------EJERCICIO 1------------------\n"
     ]
    },
    {
     "ename": "TypeError",
     "evalue": "TiendaOnline.agregar_producto() takes 1 positional argument but 4 were given",
     "output_type": "error",
     "traceback": [
      "\u001b[31m---------------------------------------------------------------------------\u001b[39m",
      "\u001b[31mTypeError\u001b[39m                                 Traceback (most recent call last)",
      "\u001b[36mCell\u001b[39m\u001b[36m \u001b[39m\u001b[32mIn[42]\u001b[39m\u001b[32m, line 4\u001b[39m\n\u001b[32m      2\u001b[39m tiendita = TiendaOnline(\u001b[33m\"\u001b[39m\u001b[33mMi Tiendita Online\u001b[39m\u001b[33m\"\u001b[39m)\n\u001b[32m      3\u001b[39m \u001b[38;5;28mprint\u001b[39m(\u001b[33m\"\u001b[39m\u001b[33m-------------EJERCICIO 1------------------\u001b[39m\u001b[33m\"\u001b[39m)\n\u001b[32m----> \u001b[39m\u001b[32m4\u001b[39m \u001b[43mtiendita\u001b[49m\u001b[43m.\u001b[49m\u001b[43magregar_producto\u001b[49m\u001b[43m(\u001b[49m\u001b[33;43m\"\u001b[39;49m\u001b[33;43mcamisa\u001b[39;49m\u001b[33;43m\"\u001b[39;49m\u001b[43m,\u001b[49m\u001b[43m \u001b[49m\u001b[32;43m30\u001b[39;49m\u001b[43m,\u001b[49m\u001b[43m \u001b[49m\u001b[32;43m12\u001b[39;49m\u001b[43m)\u001b[49m\n\u001b[32m      5\u001b[39m tiendita.agregar_producto(\u001b[33m\"\u001b[39m\u001b[33mpantalón\u001b[39m\u001b[33m\"\u001b[39m, \u001b[32m25\u001b[39m, \u001b[32m30\u001b[39m)\n\u001b[32m      6\u001b[39m tiendita.agregar_producto(\u001b[33m\"\u001b[39m\u001b[33mzapatos\u001b[39m\u001b[33m\"\u001b[39m, \u001b[32m50\u001b[39m, \u001b[32m40\u001b[39m)\n",
      "\u001b[31mTypeError\u001b[39m: TiendaOnline.agregar_producto() takes 1 positional argument but 4 were given"
     ]
    }
   ],
   "source": [
    "# Pruebo si funciona agregar producto \n",
    "tiendita = TiendaOnline(\"Mi Tiendita Online\")\n",
    "print(\"-------------EJERCICIO 1------------------\")\n",
    "tiendita.agregar_producto(\"camisa\", 30, 12)\n",
    "tiendita.agregar_producto(\"pantalón\", 25, 30)\n",
    "tiendita.agregar_producto(\"zapatos\", 50, 40)\n",
    "tiendita.agregar_producto(\"patatas\", 2, 5)\n",
    "tiendita.agregar_producto(\"camisa\", 30, 12) # Pruebo lo que pasa si repito el producto \n",
    "\n",
    "print(\"-------------EJERCICIO 2---------------\")\n",
    "tiendita.agregar_producto(\"camisa\", 30, 5)  # Pruebo si actualida la cantidad\n",
    "tiendita.ver_inventario()\n",
    "\n",
    "print(\"-------------EJERCICIO 3 ----------------\")\n",
    "\n",
    "tiendita.buscar_producto(\"camisa\")  \n",
    "tiendita.buscar_producto(\"zapatos\") \n",
    "\n",
    "\n"
   ]
  },
  {
   "cell_type": "code",
   "execution_count": null,
   "id": "34c4acc7",
   "metadata": {},
   "outputs": [],
   "source": [
    "def agregar_producto(self, nombre,precio,cantidad):\n",
    "    if nombre not in self.inventario:\n",
    "        self.inventario[{nombre}] = [nombre, precio, cantidad]\n",
    "        print(f\"Hecho, el producto [{nombre}] se ha agregado a la lista\")\n",
    "        return self.inventario \n",
    "    else: \n",
    "         return f\"Error, el producto [{nombre}] ya existe.\""
   ]
  },
  {
   "cell_type": "code",
   "execution_count": 8,
   "id": "7557d9aa",
   "metadata": {},
   "outputs": [
    {
     "name": "stdout",
     "output_type": "stream",
     "text": [
      "Producto Camisa ha sido al inventario.\n"
     ]
    }
   ],
   "source": [
    "tiendita = TiendaOnline (\"Mi Tiendita Online\")\n",
    "tiendita.agregar_producto(\"Camisa\", 30, 12)"
   ]
  },
  {
   "cell_type": "code",
   "execution_count": 12,
   "id": "3a808f52",
   "metadata": {},
   "outputs": [],
   "source": [
    "def ver_inventario(self):\n",
    "    if not self.inventario:\n",
    "        print(\"El inventario está vacío.\")\n",
    "    else:\n",
    "        for producto in self.inventario:\n",
    "            print(f\"Nombre: {producto['nombre']}, Precio: ${producto['precio']}, Cantidad: {producto['cantidad']}\")"
   ]
  },
  {
   "cell_type": "code",
   "execution_count": 19,
   "id": "80d6af10",
   "metadata": {},
   "outputs": [
    {
     "ename": "TypeError",
     "evalue": "TiendaOnline.ver_inventario() takes 1 positional argument but 2 were given",
     "output_type": "error",
     "traceback": [
      "\u001b[31m---------------------------------------------------------------------------\u001b[39m",
      "\u001b[31mTypeError\u001b[39m                                 Traceback (most recent call last)",
      "\u001b[36mCell\u001b[39m\u001b[36m \u001b[39m\u001b[32mIn[19]\u001b[39m\u001b[32m, line 2\u001b[39m\n\u001b[32m      1\u001b[39m tiendita= TiendaOnline(\u001b[33m\"\u001b[39m\u001b[33mMi Tiendita Online\u001b[39m\u001b[33m\"\u001b[39m)\n\u001b[32m----> \u001b[39m\u001b[32m2\u001b[39m \u001b[43mtiendita\u001b[49m\u001b[43m.\u001b[49m\u001b[43mver_inventario\u001b[49m\u001b[43m(\u001b[49m\u001b[33;43m\"\u001b[39;49m\u001b[33;43mpantalon, 20, 24\u001b[39;49m\u001b[33;43m\"\u001b[39;49m\u001b[43m)\u001b[49m\n",
      "\u001b[31mTypeError\u001b[39m: TiendaOnline.ver_inventario() takes 1 positional argument but 2 were given"
     ]
    }
   ],
   "source": [
    "tiendita= TiendaOnline(\"Mi Tiendita Online\")\n",
    "tiendita.ver_inventario(\"pantalon, 20, 24\")"
   ]
  },
  {
   "cell_type": "code",
   "execution_count": 22,
   "id": "0a6c9aef",
   "metadata": {},
   "outputs": [
    {
     "name": "stdout",
     "output_type": "stream",
     "text": [
      "Nombre: Camisa, Precio: $30, Cantidad: 17\n"
     ]
    }
   ],
   "source": [
    "tiendita.ver_inventario()"
   ]
  },
  {
   "cell_type": "code",
   "execution_count": 2,
   "id": "c4788ecf",
   "metadata": {},
   "outputs": [
    {
     "ename": "NameError",
     "evalue": "name 'TiendaOnline' is not defined",
     "output_type": "error",
     "traceback": [
      "\u001b[31m---------------------------------------------------------------------------\u001b[39m",
      "\u001b[31mNameError\u001b[39m                                 Traceback (most recent call last)",
      "\u001b[36mCell\u001b[39m\u001b[36m \u001b[39m\u001b[32mIn[2]\u001b[39m\u001b[32m, line 1\u001b[39m\n\u001b[32m----> \u001b[39m\u001b[32m1\u001b[39m tiendita = \u001b[43mTiendaOnline\u001b[49m (\u001b[33m\"\u001b[39m\u001b[33mMi Tiendita Online\u001b[39m\u001b[33m\"\u001b[39m)\n\u001b[32m      2\u001b[39m tiendita.agregar_producto(\u001b[33m\"\u001b[39m\u001b[33mCamisa\u001b[39m\u001b[33m\"\u001b[39m, \u001b[32m30\u001b[39m, \u001b[32m12\u001b[39m)\n",
      "\u001b[31mNameError\u001b[39m: name 'TiendaOnline' is not defined"
     ]
    }
   ],
   "source": [
    "tiendita = TiendaOnline (\"Mi Tiendita Online\")\n",
    "tiendita.agregar_producto(\"Camisa\", 30, 12)"
   ]
  },
  {
   "cell_type": "code",
   "execution_count": 31,
   "id": "9ae5811e",
   "metadata": {},
   "outputs": [],
   "source": [
    "def buscar_producto(self, nombre):\n",
    "    for producto in self.inventario:\n",
    "        if producto['nombre']== nombre:\n",
    "            print(f\"Nombre: {producto['nombre']}, Precio: ${producto['precio']}, Cantidad: {producto['cantidad']}\")\n",
    "            return\n",
    "        else: \n",
    "            print(\"Producto no encontrado.\")"
   ]
  },
  {
   "cell_type": "code",
   "execution_count": null,
   "id": "3b119b41",
   "metadata": {},
   "outputs": [
    {
     "ename": "AttributeError",
     "evalue": "'TiendaOnline' object has no attribute 'buscar_producto'",
     "output_type": "error",
     "traceback": [
      "\u001b[31m---------------------------------------------------------------------------\u001b[39m",
      "\u001b[31mAttributeError\u001b[39m                            Traceback (most recent call last)",
      "\u001b[36mCell\u001b[39m\u001b[36m \u001b[39m\u001b[32mIn[30]\u001b[39m\u001b[32m, line 1\u001b[39m\n\u001b[32m----> \u001b[39m\u001b[32m1\u001b[39m \u001b[43mtiendita\u001b[49m\u001b[43m.\u001b[49m\u001b[43mbuscar_producto\u001b[49m(\u001b[33m\"\u001b[39m\u001b[33mcamisa\u001b[39m\u001b[33m\"\u001b[39m)  \u001b[38;5;66;03m# Funciona incluso en minúsculas\u001b[39;00m\n\u001b[32m      2\u001b[39m tiendita.buscar_producto(\u001b[33m\"\u001b[39m\u001b[33mZapatos\u001b[39m\u001b[33m\"\u001b[39m) \n",
      "\u001b[31mAttributeError\u001b[39m: 'TiendaOnline' object has no attribute 'buscar_producto'"
     ]
    }
   ],
   "source": [
    "tiendita.buscar_producto(\"camisa\")  \n",
    "tiendita.buscar_producto(\"Zapatos\") "
   ]
  }
 ],
 "metadata": {
  "kernelspec": {
   "display_name": "base",
   "language": "python",
   "name": "python3"
  },
  "language_info": {
   "codemirror_mode": {
    "name": "ipython",
    "version": 3
   },
   "file_extension": ".py",
   "mimetype": "text/x-python",
   "name": "python",
   "nbconvert_exporter": "python",
   "pygments_lexer": "ipython3",
   "version": "3.13.2"
  }
 },
 "nbformat": 4,
 "nbformat_minor": 5
}
